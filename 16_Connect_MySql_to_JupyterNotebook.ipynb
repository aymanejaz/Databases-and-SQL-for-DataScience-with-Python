{
 "cells": [
  {
   "cell_type": "markdown",
   "id": "84b157d0",
   "metadata": {},
   "source": [
    "## Connect mysql to jupyter Notebook\n",
    "\n",
    "\n",
    "Connect locally hosted MySQL database (managed with phpMyAdmin) to Jupyter Notebook:\n",
    "\n",
    "1. **Start Jupyter Notebook**:\n",
    "   Open a terminal or command prompt and navigate to the directory where you want to work. Then, start Jupyter Notebook by entering the command:\n",
    "   \n",
    "   ```\n",
    "   jupyter notebook\n",
    "   ```\n",
    "\n",
    "   This will open the Jupyter Notebook interface in your web browser.\n",
    "\n",
    "2. **Create a New Notebook**:\n",
    "   In the Jupyter Notebook interface, click on \"New\" and select a programming language for your notebook (e.g., Python).\n",
    "\n",
    "3. **Install Required Libraries**:\n",
    "   If you haven't already, install the `mysql-connector-python` library by running the following command in a Jupyter Notebook cell:\n",
    "   \n",
    "   ```python\n",
    "   !pip install mysql-connector-python\n",
    "   ```\n",
    "\n",
    "4. **Import the Library**:\n",
    "   In a new cell, import the `mysql.connector` library:\n",
    "   \n",
    "   ```python\n",
    "   import mysql.connector\n",
    "   ```\n",
    "\n",
    "5. **Establish a Connection**:\n",
    "   Now, create a connection to your locally hosted MySQL database. Use the same credentials you use to access phpMyAdmin:\n",
    "\n",
    "   ```python\n",
    "   # Replace these values with your actual database credentials\n",
    "   hostname = \"localhost\"\n",
    "   username = \"your_mysql_username\"\n",
    "   password = \"your_mysql_password\"\n",
    "   database = \"your_database_name\"\n",
    "\n",
    "   # Establish the connection\n",
    "   connection = mysql.connector.connect(\n",
    "       host=hostname,\n",
    "       user=username,\n",
    "       password=password,\n",
    "       database=database\n",
    "   )\n",
    "   ```\n",
    "\n",
    "6. **Create a Cursor**:\n",
    "   Just like in the previous instructions, create a cursor to interact with the database:\n",
    "\n",
    "   ```python\n",
    "   cursor = connection.cursor()\n",
    "   ```\n",
    "\n",
    "7. **Execute SQL Queries**:\n",
    "   You can now execute SQL queries using the cursor, just like before. For example:\n",
    "\n",
    "   ```python\n",
    "   # Example query\n",
    "   query = \"SELECT * FROM your_table_name\"\n",
    "   \n",
    "   # Execute the query\n",
    "   cursor.execute(query)\n",
    "   \n",
    "   # Fetch the results\n",
    "   results = cursor.fetchall()\n",
    "   for row in results:\n",
    "       print(row)\n",
    "   ```\n",
    "\n",
    "8. **Close the Cursor and Connection**:\n",
    "   Don't forget to close the cursor and the database connection when you're done:\n",
    "\n",
    "   ```python\n",
    "   cursor.close()\n",
    "   connection.close()\n",
    "   ```\n",
    "\n",
    "9. **Run Cells**:\n",
    "   Run each cell by clicking on it and either pressing Shift + Enter or clicking the \"Run\" button in the Jupyter Notebook interface.\n",
    "\n",
    "By following these steps, you'll be able to connect your locally hosted MySQL database (managed with phpMyAdmin) to Jupyter Notebook and interact with your database using Python code."
   ]
  },
  {
   "cell_type": "code",
   "execution_count": 1,
   "id": "93f9469f",
   "metadata": {},
   "outputs": [
    {
     "name": "stdout",
     "output_type": "stream",
     "text": [
      "Requirement already satisfied: mysql-connector-python in c:\\users\\ayman\\appdata\\local\\programs\\python\\python311\\lib\\site-packages (8.0.33)\n",
      "Requirement already satisfied: protobuf<=3.20.3,>=3.11.0 in c:\\users\\ayman\\appdata\\local\\programs\\python\\python311\\lib\\site-packages (from mysql-connector-python) (3.20.3)\n"
     ]
    },
    {
     "name": "stderr",
     "output_type": "stream",
     "text": [
      "\n",
      "[notice] A new release of pip is available: 23.2 -> 23.2.1\n",
      "[notice] To update, run: python.exe -m pip install --upgrade pip\n"
     ]
    }
   ],
   "source": [
    "!pip install mysql-connector-python"
   ]
  },
  {
   "cell_type": "code",
   "execution_count": 2,
   "id": "04e12024",
   "metadata": {},
   "outputs": [],
   "source": [
    "import mysql.connector"
   ]
  },
  {
   "cell_type": "code",
   "execution_count": 35,
   "id": "7fed225f",
   "metadata": {},
   "outputs": [],
   "source": [
    "connection = mysql.connector.connect(\n",
    "    database = 'hr', \n",
    "    user='root', \n",
    "    password='', \n",
    "    host='localhost',\n",
    "    port=3307)\n"
   ]
  },
  {
   "cell_type": "code",
   "execution_count": 38,
   "id": "4ae43ed9",
   "metadata": {},
   "outputs": [],
   "source": [
    "# Example query\n",
    "query = \"SELECT * FROM jobs\"\n"
   ]
  },
  {
   "cell_type": "code",
   "execution_count": 40,
   "id": "d291e2a6",
   "metadata": {},
   "outputs": [],
   "source": [
    "cursor = connection.cursor()"
   ]
  },
  {
   "cell_type": "code",
   "execution_count": 41,
   "id": "f5816059",
   "metadata": {},
   "outputs": [],
   "source": [
    "# Execute the query\n",
    "cursor.execute(query)"
   ]
  },
  {
   "cell_type": "code",
   "execution_count": 42,
   "id": "bffe9154",
   "metadata": {},
   "outputs": [
    {
     "name": "stdout",
     "output_type": "stream",
     "text": [
      "('100', 'Sr. Architect', Decimal('60000.00'), Decimal('100000.00'))\n",
      "('200', 'Sr.Software Developer', Decimal('60000.00'), Decimal('80000.00'))\n",
      "('220', 'Sr. Designer', Decimal('70000.00'), Decimal('90000.00'))\n",
      "('234', 'Sr. Designer', Decimal('70000.00'), Decimal('90000.00'))\n",
      "('300', 'Jr.Software Developer', Decimal('40000.00'), Decimal('60000.00'))\n",
      "('400', 'Jr.Software Developer', Decimal('40000.00'), Decimal('60000.00'))\n",
      "('500', 'Jr. Architect', Decimal('50000.00'), Decimal('70000.00'))\n",
      "('600', 'Lead Architect', Decimal('70000.00'), Decimal('100000.00'))\n",
      "('650', 'Jr. Designer', Decimal('60000.00'), Decimal('70000.00'))\n",
      "('660', 'Jr. Designer', Decimal('60000.00'), Decimal('70000.00'))\n"
     ]
    }
   ],
   "source": [
    "# Fetch the results\n",
    "results = cursor.fetchall()\n",
    "for row in results:\n",
    "    print(row)"
   ]
  },
  {
   "cell_type": "code",
   "execution_count": 43,
   "id": "bba4cf4b",
   "metadata": {},
   "outputs": [],
   "source": [
    "cursor.close()\n",
    "connection.close()"
   ]
  },
  {
   "cell_type": "code",
   "execution_count": null,
   "id": "4649680d",
   "metadata": {},
   "outputs": [],
   "source": []
  },
  {
   "cell_type": "code",
   "execution_count": null,
   "id": "2cacffb6",
   "metadata": {},
   "outputs": [],
   "source": []
  }
 ],
 "metadata": {
  "kernelspec": {
   "display_name": "Python 3 (ipykernel)",
   "language": "python",
   "name": "python3"
  },
  "language_info": {
   "codemirror_mode": {
    "name": "ipython",
    "version": 3
   },
   "file_extension": ".py",
   "mimetype": "text/x-python",
   "name": "python",
   "nbconvert_exporter": "python",
   "pygments_lexer": "ipython3",
   "version": "3.11.3"
  }
 },
 "nbformat": 4,
 "nbformat_minor": 5
}
