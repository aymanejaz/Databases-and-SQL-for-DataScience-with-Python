{
 "cells": [
  {
   "cell_type": "markdown",
   "id": "06461deb",
   "metadata": {},
   "source": [
    "# Create database in PhpMyAdmin from Jupyter Notebook\n",
    "\n",
    "Create a database from Jupyter Notebook using various database management systems like MySQL, PostgreSQL, SQLite, etc. Here's a general overview of how you can create a database from Jupyter Notebook using MySQL as an example:\n",
    "\n",
    "1. **Import Required Libraries:**\n",
    "   Start by importing the necessary libraries. For MySQL, you'll need the `mysql.connector` library. You might need to install it using `!pip install mysql-connector-python`.\n"
   ]
  },
  {
   "cell_type": "code",
   "execution_count": 20,
   "id": "6e62615e",
   "metadata": {},
   "outputs": [],
   "source": [
    "import mysql.connector"
   ]
  },
  {
   "cell_type": "markdown",
   "id": "0bcad46e",
   "metadata": {},
   "source": [
    "2. **Establish a Connection:**\n",
    "   Create a connection to your MySQL server using your server credentials and host information."
   ]
  },
  {
   "cell_type": "code",
   "execution_count": 21,
   "id": "dc7d9bb1",
   "metadata": {},
   "outputs": [],
   "source": [
    "#  Establish a Connection:\n",
    "db_connection = mysql.connector.connect(\n",
    "    user='root', \n",
    "    password='', \n",
    "    host='localhost',\n",
    "    port=3307)"
   ]
  },
  {
   "cell_type": "markdown",
   "id": "277d0431",
   "metadata": {},
   "source": [
    "\n",
    "3. **Create a Database:**\n",
    "   Use the `CREATE DATABASE` SQL command to create a new database."
   ]
  },
  {
   "cell_type": "code",
   "execution_count": 23,
   "id": "c4e1579b",
   "metadata": {},
   "outputs": [
    {
     "data": {
      "text/plain": [
       "True"
      ]
     },
     "execution_count": 23,
     "metadata": {},
     "output_type": "execute_result"
    }
   ],
   "source": [
    "db_cursor = db_connection.cursor()\n",
    "db_cursor.execute(\"CREATE DATABASE test_db\")\n",
    "db_cursor.close()"
   ]
  },
  {
   "cell_type": "markdown",
   "id": "d919f9f6",
   "metadata": {},
   "source": [
    "4. **Confirm Database Creation:**\n",
    "   You can check if the database was created successfully by refreshing your MySQL server or using a SQL query to list all available databases."
   ]
  },
  {
   "cell_type": "code",
   "execution_count": 30,
   "id": "6a93b66a",
   "metadata": {},
   "outputs": [
    {
     "name": "stdout",
     "output_type": "stream",
     "text": [
      "('aymanejaz',)\n",
      "('hr',)\n",
      "('information_schema',)\n",
      "('mysql',)\n",
      "('mysql_learners',)\n",
      "('performance_schema',)\n",
      "('phpmyadmin',)\n",
      "('test',)\n",
      "('test_db',)\n",
      "('testdb',)\n"
     ]
    },
    {
     "data": {
      "text/plain": [
       "True"
      ]
     },
     "execution_count": 30,
     "metadata": {},
     "output_type": "execute_result"
    }
   ],
   "source": [
    "db_cursor = db_connection.cursor()\n",
    "db_cursor.execute(\"SHOW DATABASES\")\n",
    "databases = db_cursor.fetchall()\n",
    "\n",
    "for database in databases:\n",
    "    print(database)\n",
    "\n",
    "       \n",
    "db_cursor.close()"
   ]
  },
  {
   "cell_type": "markdown",
   "id": "faa20880",
   "metadata": {},
   "source": [
    "5. **Close Connection:**\n",
    "   After you're done, don't forget to close the connection."
   ]
  },
  {
   "cell_type": "code",
   "execution_count": 35,
   "id": "9115b84d",
   "metadata": {},
   "outputs": [],
   "source": [
    "db_connection.close()"
   ]
  },
  {
   "cell_type": "code",
   "execution_count": null,
   "id": "3f407b5b",
   "metadata": {},
   "outputs": [],
   "source": []
  },
  {
   "cell_type": "code",
   "execution_count": null,
   "id": "61be23d6",
   "metadata": {},
   "outputs": [],
   "source": []
  },
  {
   "cell_type": "code",
   "execution_count": null,
   "id": "5edd0aa1",
   "metadata": {},
   "outputs": [],
   "source": []
  }
 ],
 "metadata": {
  "kernelspec": {
   "display_name": "Python 3 (ipykernel)",
   "language": "python",
   "name": "python3"
  },
  "language_info": {
   "codemirror_mode": {
    "name": "ipython",
    "version": 3
   },
   "file_extension": ".py",
   "mimetype": "text/x-python",
   "name": "python",
   "nbconvert_exporter": "python",
   "pygments_lexer": "ipython3",
   "version": "3.11.3"
  }
 },
 "nbformat": 4,
 "nbformat_minor": 5
}
