{
 "cells": [
  {
   "cell_type": "markdown",
   "id": "c9a95184",
   "metadata": {},
   "source": [
    "## Insert Data into the 'courses' table through CSV file:"
   ]
  },
  {
   "cell_type": "markdown",
   "id": "fbcd9e5e",
   "metadata": {},
   "source": [
    "The following Python code to read the CSV file and insert the data into the 'courses' table:"
   ]
  },
  {
   "cell_type": "code",
   "execution_count": 1,
   "id": "0b188627",
   "metadata": {},
   "outputs": [],
   "source": [
    "# Import the required library\n",
    "import mysql.connector\n",
    "import csv"
   ]
  },
  {
   "cell_type": "code",
   "execution_count": 4,
   "id": "8b08cbac",
   "metadata": {},
   "outputs": [],
   "source": [
    "# Establish a connection to MySQL server and select the 'testdb' database\n",
    "db_connection = mysql.connector.connect( \n",
    "    user='root',         # MySQL username\n",
    "    password='',         # MySQL password (or leave empty)\n",
    "    host='localhost',    # MySQL host (usually 'localhost')\n",
    "    database='testdb',   # Select the 'testdb' database\n",
    "    port=3307            # MySQL port (usually 3306)\n",
    ")"
   ]
  },
  {
   "cell_type": "code",
   "execution_count": 5,
   "id": "f9d97213",
   "metadata": {},
   "outputs": [],
   "source": [
    "\n",
    "# Create a new database cursor\n",
    "db_cursor = db_connection.cursor()\n"
   ]
  },
  {
   "cell_type": "code",
   "execution_count": 6,
   "id": "3181500c",
   "metadata": {},
   "outputs": [],
   "source": [
    "# Read the CSV file and insert data into the 'courses' table\n",
    "with open('dummy_courses.csv', 'r') as csv_file:\n",
    "    csv_reader = csv.DictReader(csv_file)\n",
    "    for row in csv_reader:\n",
    "        course_name = row['course_name']\n",
    "        instructor = row['instructor']\n",
    "        credits = int(row['credits'])\n",
    "        insert_data_query = \"\"\"\n",
    "        INSERT INTO courses (course_name, instructor, credits)\n",
    "        VALUES (%s, %s, %s)\n",
    "        \"\"\"\n",
    "        db_cursor.execute(insert_data_query, (course_name, instructor, credits))"
   ]
  },
  {
   "cell_type": "code",
   "execution_count": 7,
   "id": "cf7fb66c",
   "metadata": {},
   "outputs": [],
   "source": [
    "# Commit the changes to the database\n",
    "db_connection.commit()"
   ]
  },
  {
   "cell_type": "code",
   "execution_count": 8,
   "id": "8d307e4c",
   "metadata": {},
   "outputs": [],
   "source": [
    "# Close the database cursor and connection\n",
    "db_cursor.close()\n",
    "db_connection.close()"
   ]
  },
  {
   "cell_type": "code",
   "execution_count": 10,
   "id": "1dd0fdae",
   "metadata": {},
   "outputs": [
    {
     "name": "stdout",
     "output_type": "stream",
     "text": [
      "Data from CSV file has been inserted into the 'courses' table.\n"
     ]
    }
   ],
   "source": [
    "\n",
    "# Confirm that the data has been inserted\n",
    "print(\"Data from CSV file has been inserted into the 'courses' table.\")\n"
   ]
  },
  {
   "cell_type": "code",
   "execution_count": null,
   "id": "8a6fffd4",
   "metadata": {},
   "outputs": [],
   "source": []
  }
 ],
 "metadata": {
  "kernelspec": {
   "display_name": "Python 3 (ipykernel)",
   "language": "python",
   "name": "python3"
  },
  "language_info": {
   "codemirror_mode": {
    "name": "ipython",
    "version": 3
   },
   "file_extension": ".py",
   "mimetype": "text/x-python",
   "name": "python",
   "nbconvert_exporter": "python",
   "pygments_lexer": "ipython3",
   "version": "3.11.3"
  }
 },
 "nbformat": 4,
 "nbformat_minor": 5
}
