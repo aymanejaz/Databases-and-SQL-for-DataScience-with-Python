{
 "cells": [
  {
   "cell_type": "markdown",
   "id": "292b4512",
   "metadata": {},
   "source": [
    "## Insert Dummy Data From Jupyter Notebook to MySql PhpMyAdmin "
   ]
  },
  {
   "cell_type": "code",
   "execution_count": 1,
   "id": "f1c68218",
   "metadata": {},
   "outputs": [],
   "source": [
    "# Import the required library\n",
    "import mysql.connector\n"
   ]
  },
  {
   "cell_type": "code",
   "execution_count": 7,
   "id": "9b74c985",
   "metadata": {},
   "outputs": [],
   "source": [
    "# Establish a connection to MySQL server and select the 'testdb' database\n",
    "db_connection = mysql.connector.connect(\n",
    "    user='root',         # MySQL username\n",
    "    password='',         # MySQL password (or leave empty)\n",
    "    host='localhost',    # MySQL host (usually 'localhost')\n",
    "    database='testdb',   # Select the 'testdb' database\n",
    "    port=3307            # MySQL port (usually 3306)\n",
    ")"
   ]
  },
  {
   "cell_type": "code",
   "execution_count": 2,
   "id": "13a5264b",
   "metadata": {},
   "outputs": [],
   "source": [
    "# Create a new database cursor\n",
    "db_cursor = db_connection.cursor()\n",
    "\n",
    "# Define the dummy data to be inserted into the 'courses' table\n",
    "dummy_data = [\n",
    "    (\"Introduction to Programming\", \"John Smith\", 3),\n",
    "    (\"Data Science Fundamentals\", \"Emily Johnson\", 4),\n",
    "    (\"Web Development Basics\", \"Michael Brown\", 2),\n",
    "    (\"Database Design Principles\", \"Jennifer Lee\", 3)\n",
    "]"
   ]
  },
  {
   "cell_type": "code",
   "execution_count": 3,
   "id": "3ff197a7",
   "metadata": {},
   "outputs": [],
   "source": [
    "# Define the SQL command to insert data into the 'courses' table\n",
    "insert_data_query = \"\"\"\n",
    "INSERT INTO courses (course_name, instructor, credits)\n",
    "VALUES (%s, %s, %s)\n",
    "\"\"\"\n"
   ]
  },
  {
   "cell_type": "code",
   "execution_count": 4,
   "id": "ab2c2f94",
   "metadata": {},
   "outputs": [],
   "source": [
    "# Insert the dummy data into the 'courses' table\n",
    "db_cursor.executemany(insert_data_query, dummy_data)\n"
   ]
  },
  {
   "cell_type": "code",
   "execution_count": 5,
   "id": "3cfcd646",
   "metadata": {},
   "outputs": [],
   "source": [
    "# Commit the changes to the database\n",
    "db_connection.commit()"
   ]
  },
  {
   "cell_type": "code",
   "execution_count": 6,
   "id": "b65cec5e",
   "metadata": {},
   "outputs": [],
   "source": [
    "# Close the database cursor and connection\n",
    "db_cursor.close()\n",
    "db_connection.close()"
   ]
  },
  {
   "cell_type": "code",
   "execution_count": 8,
   "id": "91d2d070",
   "metadata": {},
   "outputs": [
    {
     "name": "stdout",
     "output_type": "stream",
     "text": [
      "Dummy data has been inserted into the 'courses' table.\n"
     ]
    }
   ],
   "source": [
    "# Confirm that the data has been inserted\n",
    "print(\"Dummy data has been inserted into the 'courses' table.\")\n"
   ]
  },
  {
   "cell_type": "code",
   "execution_count": null,
   "id": "c0672389",
   "metadata": {},
   "outputs": [],
   "source": []
  },
  {
   "cell_type": "code",
   "execution_count": null,
   "id": "d6297085",
   "metadata": {},
   "outputs": [],
   "source": []
  }
 ],
 "metadata": {
  "kernelspec": {
   "display_name": "Python 3 (ipykernel)",
   "language": "python",
   "name": "python3"
  },
  "language_info": {
   "codemirror_mode": {
    "name": "ipython",
    "version": 3
   },
   "file_extension": ".py",
   "mimetype": "text/x-python",
   "name": "python",
   "nbconvert_exporter": "python",
   "pygments_lexer": "ipython3",
   "version": "3.11.3"
  }
 },
 "nbformat": 4,
 "nbformat_minor": 5
}
