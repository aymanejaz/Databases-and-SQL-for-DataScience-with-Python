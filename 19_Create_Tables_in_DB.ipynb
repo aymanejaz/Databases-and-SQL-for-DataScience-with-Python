{
 "cells": [
  {
   "cell_type": "markdown",
   "id": "e6d91c62",
   "metadata": {},
   "source": [
    "## Create Tables in MySQL (PHPMyAdmin) using Jupyter Notebook:\n"
   ]
  },
  {
   "cell_type": "code",
   "execution_count": 1,
   "id": "4014ee6f",
   "metadata": {},
   "outputs": [],
   "source": [
    "import mysql.connector"
   ]
  },
  {
   "cell_type": "code",
   "execution_count": 3,
   "id": "022fa16d",
   "metadata": {},
   "outputs": [],
   "source": [
    "#  Establish a Connection:\n",
    "db_connection = mysql.connector.connect(\n",
    "    user='root', \n",
    "    password='', \n",
    "    host='localhost',\n",
    "    database='testdb',\n",
    "    port=3307)"
   ]
  },
  {
   "cell_type": "code",
   "execution_count": 4,
   "id": "d8d75dcc",
   "metadata": {},
   "outputs": [],
   "source": [
    "# Create a new database cursor\n",
    "db_cursor = db_connection.cursor()"
   ]
  },
  {
   "cell_type": "markdown",
   "id": "2cf46621",
   "metadata": {},
   "source": [
    "### Create Tables:"
   ]
  },
  {
   "cell_type": "code",
   "execution_count": 5,
   "id": "6ff4e366",
   "metadata": {},
   "outputs": [],
   "source": [
    "# Define the SQL command to create another table\n",
    "create_another_table_query = \"\"\"\n",
    "CREATE TABLE IF NOT EXISTS courses (\n",
    "    course_id INT AUTO_INCREMENT PRIMARY KEY,\n",
    "    course_name VARCHAR(100),\n",
    "    instructor VARCHAR(50),\n",
    "    credits INT\n",
    ")\n",
    "\"\"\""
   ]
  },
  {
   "cell_type": "code",
   "execution_count": 6,
   "id": "3f596cae",
   "metadata": {},
   "outputs": [],
   "source": [
    "# Execute the SQL command to create the second table\n",
    "db_cursor.execute(create_another_table_query)\n"
   ]
  },
  {
   "cell_type": "code",
   "execution_count": 7,
   "id": "7a8bac87",
   "metadata": {},
   "outputs": [],
   "source": [
    "# Commit the changes to the database\n",
    "db_connection.commit()"
   ]
  },
  {
   "cell_type": "code",
   "execution_count": 8,
   "id": "43491a5c",
   "metadata": {},
   "outputs": [],
   "source": [
    "# Close the database cursor and connection\n",
    "db_cursor.close()\n",
    "db_connection.close()"
   ]
  },
  {
   "cell_type": "code",
   "execution_count": 13,
   "id": "a085fb03",
   "metadata": {},
   "outputs": [
    {
     "name": "stdout",
     "output_type": "stream",
     "text": [
      "Table 'courses' has been created in the 'testdb' database.\n"
     ]
    }
   ],
   "source": [
    "# Confirm that the second table has been created\n",
    "print(\"Table 'courses' has been created in the 'testdb' database.\")"
   ]
  },
  {
   "cell_type": "code",
   "execution_count": null,
   "id": "8d7b0b68",
   "metadata": {},
   "outputs": [],
   "source": []
  },
  {
   "cell_type": "code",
   "execution_count": null,
   "id": "2be9826c",
   "metadata": {},
   "outputs": [],
   "source": []
  }
 ],
 "metadata": {
  "kernelspec": {
   "display_name": "Python 3 (ipykernel)",
   "language": "python",
   "name": "python3"
  },
  "language_info": {
   "codemirror_mode": {
    "name": "ipython",
    "version": 3
   },
   "file_extension": ".py",
   "mimetype": "text/x-python",
   "name": "python",
   "nbconvert_exporter": "python",
   "pygments_lexer": "ipython3",
   "version": "3.11.3"
  }
 },
 "nbformat": 4,
 "nbformat_minor": 5
}
